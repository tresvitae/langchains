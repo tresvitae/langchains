{
 "cells": [
  {
   "cell_type": "markdown",
   "id": "24a9a924",
   "metadata": {},
   "source": [
    "# Lab 20: Persistent Memory with Redis - Resuming Conversations\n",
    "\n",
    "This lab demonstrates how to resume and continue conversations using Redis-based persistent memory. You'll learn:\n",
    "- How persistent memory survives application restarts\n",
    "- Resuming conversations from previous sessions stored in Redis\n",
    "- Understanding conversation continuity across different execution contexts\n",
    "- Leveraging Redis for stateful conversational applications\n",
    "- Comparing with traditional in-memory approaches that lose state"
   ]
  },
  {
   "cell_type": "code",
   "execution_count": null,
   "id": "8a9db18e",
   "metadata": {
    "vscode": {
     "languageId": "plaintext"
    }
   },
   "outputs": [],
   "source": [
    "# Re-initialize the Redis-based conversation system\n",
    "# This simulates starting a new application instance or notebook session\n",
    "# The setup is identical to Lab 19 but demonstrates persistence across sessions\n",
    "from langchain_core.prompts import ChatPromptTemplate, MessagesPlaceholder\n",
    "from langchain_openai.chat_models import ChatOpenAI\n",
    "\n",
    "from langchain_community.chat_message_histories import RedisChatMessageHistory\n",
    "from langchain_core.runnables.history import RunnableWithMessageHistory\n",
    "\n",
    "import os\n",
    "# API key configuration (same as before)\n",
    "os.environ[\"OPENAI_API_KEY\"] = \"your-api-key\"\n",
    "\n",
    "# Recreate the model and prompt template\n",
    "# Even though we're \"restarting\", Redis preserves conversation history\n",
    "model = ChatOpenAI()\n",
    "prompt = ChatPromptTemplate.from_messages(\n",
    "    [\n",
    "        (\n",
    "            \"system\",\n",
    "            \"You're an assistant who's good at {ability}. Respond in 20 words or fewer\",\n",
    "        ),\n",
    "        MessagesPlaceholder(variable_name=\"history\"),  # Will load from Redis\n",
    "        (\"human\", \"{input}\"),\n",
    "    ]\n",
    ")\n",
    "base_chain = prompt | model"
   ]
  },
  {
   "cell_type": "code",
   "execution_count": null,
   "id": "a2461f46",
   "metadata": {
    "vscode": {
     "languageId": "plaintext"
    }
   },
   "outputs": [],
   "source": [
    "# Same Redis configuration as Lab 19\n",
    "# The connection points to the same Redis instance with preserved data\n",
    "REDIS_URL = \"redis://localhost:6379/0\"\n",
    "\n",
    "# Store variable (unused but maintained for consistency)\n",
    "store = {}"
   ]
  },
  {
   "cell_type": "code",
   "execution_count": null,
   "id": "798b2c62",
   "metadata": {
    "vscode": {
     "languageId": "plaintext"
    }
   },
   "outputs": [],
   "source": [
    "# Recreate the Redis-backed conversation system\n",
    "# This function will connect to the same Redis instance and retrieve existing conversations\n",
    "def get_message_history(session_id: str) -> RedisChatMessageHistory:\n",
    "    \"\"\"Connect to existing or new Redis message history for session\"\"\"\n",
    "    return RedisChatMessageHistory(session_id, url=REDIS_URL)\n",
    "\n",
    "# Rebuild the chain with Redis memory integration\n",
    "# This chain can access conversations started in Lab 19\n",
    "redis_chain = RunnableWithMessageHistory(\n",
    "    base_chain,                          # Recreated base chain\n",
    "    get_message_history,                 # Same Redis connection function\n",
    "    input_messages_key=\"input\",          \n",
    "    history_messages_key=\"history\",      \n",
    ")"
   ]
  },
  {
   "cell_type": "code",
   "execution_count": null,
   "id": "780fda4d",
   "metadata": {
    "vscode": {
     "languageId": "plaintext"
    }
   },
   "outputs": [],
   "source": [
    "# Resume the math conversation from Lab 19 using the same session ID\n",
    "# Redis has preserved the entire conversation history about cosine\n",
    "# \"Tell me more!\" will continue from where Lab 19 left off\n",
    "# This demonstrates true persistence across application sessions\n",
    "redis_chain.invoke(\n",
    "    {\"ability\": \"math\", \"input\": \"Tell me more!\"},\n",
    "    config={\"configurable\": {\"session_id\": \"math-thread1\"}},  # Continues from Lab 19\n",
    ")"
   ]
  },
  {
   "cell_type": "code",
   "execution_count": null,
   "id": "e3731f1a",
   "metadata": {
    "vscode": {
     "languageId": "plaintext"
    }
   },
   "outputs": [],
   "source": [
    "# Resume the physics conversation from Lab 19 using the same session ID\n",
    "# Redis has maintained the separate physics thread about relativity theory  \n",
    "# This shows how multiple conversation threads persist independently\n",
    "# The AI will continue discussing relativity, not cosine\n",
    "redis_chain.invoke(\n",
    "    {\"ability\": \"physics\", \"input\": \"Tell me more!\"},\n",
    "    config={\"configurable\": {\"session_id\": \"phy-thread1\"}},  # Continues physics from Lab 19\n",
    ")"
   ]
  }
 ],
 "metadata": {
  "language_info": {
   "name": "python"
  }
 },
 "nbformat": 4,
 "nbformat_minor": 5
}
