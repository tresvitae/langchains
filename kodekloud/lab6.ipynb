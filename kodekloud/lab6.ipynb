{
 "cells": [
  {
   "cell_type": "code",
   "execution_count": 1,
   "id": "6c81a803-7e5e-4042-94f8-360ec894935f",
   "metadata": {},
   "outputs": [],
   "source": [
    "from langchain.prompts import PromptTemplate\n",
    "from langchain_openai import OpenAI\n",
    "from langchain.output_parsers.list import ListOutputParser\n",
    "from langchain_core.output_parsers import JsonOutputParser\n",
    "import json\n",
    "import os"
   ]
  },
  {
   "cell_type": "code",
   "execution_count": null,
   "id": "6a785c95",
   "metadata": {},
   "outputs": [],
   "source": [
    "os.environ[\"OPENAI_API_KEY\"]=\"YOUR_OPENAI_API_KEY\""
   ]
  },
  {
   "cell_type": "code",
   "execution_count": 2,
   "id": "7ad4705c-1889-4f54-924c-9933e6a5a4de",
   "metadata": {},
   "outputs": [],
   "source": [
    "llm = OpenAI()"
   ]
  },
  {
   "cell_type": "code",
   "execution_count": null,
   "id": "a6f3cd8f-bddf-4856-98ae-2744bd06f4a6",
   "metadata": {},
   "outputs": [],
   "source": [
    "# Create a basic prompt template.\n",
    "prompt = PromptTemplate(\n",
    "    template=\"List 3 countries in {continent} and their capitals\",\n",
    "    input_variables=[\"continent\"])"
   ]
  },
  {
   "cell_type": "code",
   "execution_count": null,
   "id": "d4dfe080-cd15-4176-8f5f-95a780fbf0ff",
   "metadata": {},
   "outputs": [],
   "source": [
    "# Invoke the model with the prompt.\n",
    "print(llm.invoke(input=prompt.format(continent=\"Asia\")))"
   ]
  },
  {
   "cell_type": "code",
   "execution_count": null,
   "id": "7a01b17b-5ea7-4331-8527-b71da6c343af",
   "metadata": {},
   "outputs": [],
   "source": [
    "# Create an output parser for JSON.\n",
    "output_parser = JsonOutputParser()\n",
    "format_instructions = output_parser.get_format_instructions()\n",
    "print(format_instructions)"
   ]
  },
  {
   "cell_type": "code",
   "execution_count": null,
   "id": "e689792a-827f-4cae-ace0-95a4c8c0a166",
   "metadata": {},
   "outputs": [],
   "source": [
    "# Update the prompt template with format instructions.\n",
    "prompt = PromptTemplate(\n",
    "    template=\"List 3 countries in {continent} and their capitals\\n{format_instructions}\",\n",
    "    input_variables=[\"continent\"],\n",
    "    partial_variables={\"format_instructions\": format_instructions})"
   ]
  },
  {
   "cell_type": "code",
   "execution_count": null,
   "id": "bf8f736d-7bcf-487b-a0de-c8a103d0cb2c",
   "metadata": {},
   "outputs": [],
   "source": [
    "# Format the final prompt.\n",
    "final_prompt = prompt.format(continent=\"North America\")\n",
    "print(final_prompt)"
   ]
  },
  {
   "cell_type": "code",
   "execution_count": null,
   "id": "701fe387-b74e-49e7-baeb-c959d2b8e7bc",
   "metadata": {},
   "outputs": [],
   "source": [
    "# Invoke the model with the final prompt.\n",
    "output = llm.invoke(input=final_prompt)\n",
    "print(output)"
   ]
  },
  {
   "cell_type": "code",
   "execution_count": null,
   "id": "7688e462-3514-4b32-b2d6-524eca62700b",
   "metadata": {},
   "outputs": [],
   "source": [
    "# Parse and print the JSON output.\n",
    "countries = output_parser.parse(output)\n",
    "print(json.dumps(countries))\n",
    "type(countries)"
   ]
  }
 ],
 "metadata": {
  "kernelspec": {
   "display_name": "Python 3 (ipykernel)",
   "language": "python",
   "name": "python3"
  },
  "language_info": {
   "codemirror_mode": {
    "name": "ipython",
    "version": 3
   },
   "file_extension": ".py",
   "mimetype": "text/x-python",
   "name": "python",
   "nbconvert_exporter": "python",
   "pygments_lexer": "ipython3",
   "version": "3.10.16"
  }
 },
 "nbformat": 4,
 "nbformat_minor": 5
}
