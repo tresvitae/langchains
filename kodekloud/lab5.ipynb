{
 "cells": [
  {
   "cell_type": "code",
   "execution_count": 2,
   "id": "6c81a803-7e5e-4042-94f8-360ec894935f",
   "metadata": {},
   "outputs": [],
   "source": [
    "from langchain.prompts import PromptTemplate\n",
    "from langchain_openai import OpenAI\n",
    "from langchain.output_parsers.list import ListOutputParser\n",
    "from langchain.output_parsers import CommaSeparatedListOutputParser\n",
    "import os"
   ]
  },
  {
   "cell_type": "code",
   "execution_count": null,
   "id": "970e71fc",
   "metadata": {},
   "outputs": [],
   "source": [
    "os.environ[\"OPENAI_API_KEY\"]=\"YOUR_OPENAI_API_KEY\""
   ]
  },
  {
   "cell_type": "code",
   "execution_count": null,
   "id": "8bdbc126-994a-4de1-b9e4-8bf40ae88645",
   "metadata": {},
   "outputs": [],
   "source": [
    "# Initialize the OpenAI model.\n",
    "llm = OpenAI()"
   ]
  },
  {
   "cell_type": "code",
   "execution_count": null,
   "id": "d794b017-524a-4dc0-85f3-442e80cce400",
   "metadata": {},
   "outputs": [],
   "source": [
    "# Create a basic prompt template.\n",
    "prompt = PromptTemplate(\n",
    "    template=\"List 3 {things}\",\n",
    "    input_variables=[\"things\"])"
   ]
  },
  {
   "cell_type": "code",
   "execution_count": null,
   "id": "9807e92a-a7ea-4ea4-bc7a-5dde910c2db6",
   "metadata": {},
   "outputs": [],
   "source": [
    "# Invoke the model with the prompt.\n",
    "print(llm.invoke(input=prompt.format(things=\"countries that play cricket in world cup\")))"
   ]
  },
  {
   "cell_type": "code",
   "execution_count": null,
   "id": "a89000f8-cc85-4e95-94fa-23730e6634e1",
   "metadata": {},
   "outputs": [],
   "source": [
    "# Create an output parser for comma-separated values.\n",
    "output_parser = CommaSeparatedListOutputParser()\n",
    "format_instructions = output_parser.get_format_instructions()"
   ]
  },
  {
   "cell_type": "code",
   "execution_count": null,
   "id": "252b187f-4b71-4b11-a675-7f36f1f06e63",
   "metadata": {},
   "outputs": [],
   "source": [
    "# Print the format instructions.\n",
    "print(format_instructions)"
   ]
  },
  {
   "cell_type": "code",
   "execution_count": null,
   "id": "d69cdb64-96fc-47fb-9e9d-f5cd4f6a163f",
   "metadata": {},
   "outputs": [],
   "source": [
    "# Update the prompt template with format instructions.\n",
    "prompt = PromptTemplate(\n",
    "    template=\"List 3 {things}.\\n{format_instructions}\",\n",
    "    input_variables=[\"things\"],\n",
    "    partial_variables={\"format_instructions\": format_instructions})"
   ]
  },
  {
   "cell_type": "code",
   "execution_count": null,
   "id": "41dc19dc-6675-4646-ab3e-5409c19dc7e2",
   "metadata": {},
   "outputs": [],
   "source": [
    "# Format the final prompt.\n",
    "final_prompt = prompt.format(things=\"countries that play cricket in world cup\")"
   ]
  },
  {
   "cell_type": "code",
   "execution_count": null,
   "id": "1c81c759-10d3-4f27-afd7-bb428266f801",
   "metadata": {},
   "outputs": [],
   "source": [
    "final_prompt"
   ]
  },
  {
   "cell_type": "code",
   "execution_count": null,
   "id": "14e54653-7ace-42c0-a1a7-830f5f0bf326",
   "metadata": {},
   "outputs": [],
   "source": [
    "# Invoke the model with the final prompt.\n",
    "output = llm.invoke(input=final_prompt)"
   ]
  },
  {
   "cell_type": "code",
   "execution_count": null,
   "id": "183b583e-7d5b-4b1f-87a0-8cc122532401",
   "metadata": {},
   "outputs": [],
   "source": [
    "print(output.strip())\n",
    "type(output)"
   ]
  }
 ],
 "metadata": {
  "kernelspec": {
   "display_name": "Python 3 (ipykernel)",
   "language": "python",
   "name": "python3"
  },
  "language_info": {
   "codemirror_mode": {
    "name": "ipython",
    "version": 3
   },
   "file_extension": ".py",
   "mimetype": "text/x-python",
   "name": "python",
   "nbconvert_exporter": "python",
   "pygments_lexer": "ipython3",
   "version": "3.10.16"
  }
 },
 "nbformat": 4,
 "nbformat_minor": 5
}
