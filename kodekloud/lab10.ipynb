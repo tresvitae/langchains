{
 "cells": [
  {
   "cell_type": "markdown",
   "id": "0eab1ed5",
   "metadata": {},
   "source": [
    "# Lab 10: LangChain Callback Handlers\n",
    "\n",
    "This lab demonstrates how to use callback handlers in LangChain to monitor and log chain execution. You'll learn:\n",
    "- How to implement callback handlers for real-time monitoring\n",
    "- Using `StdOutCallbackHandler` to print execution details\n",
    "- Integrating callbacks into chains for better observability\n",
    "- The difference between callbacks and verbose mode"
   ]
  },
  {
   "cell_type": "code",
   "execution_count": null,
   "id": "3fa683ba-bab3-4fd1-b3b1-60a140981a9a",
   "metadata": {},
   "outputs": [],
   "source": [
    "# Import required libraries for callback handler demonstration\n",
    "from langchain.prompts import ChatPromptTemplate\n",
    "from langchain_openai import ChatOpenAI\n",
    "from langchain.chains import LLMChain\n",
    "import os"
   ]
  },
  {
   "cell_type": "code",
   "execution_count": null,
   "id": "d6b1a709",
   "metadata": {},
   "outputs": [],
   "source": [
    "# Set OpenAI API key - replace with your actual API key\n",
    "os.environ[\"OPENAI_API_KEY\"] = \"your-api-key\""
   ]
  },
  {
   "cell_type": "code",
   "execution_count": null,
   "id": "84804b4b-f4d9-447f-bcb1-4473f5e033f0",
   "metadata": {},
   "outputs": [],
   "source": [
    "# Create a standard output callback handler\n",
    "# This handler will print execution details to the console in real-time\n",
    "# It shows starts, ends, and intermediate steps of chain execution\n",
    "from langchain_core.callbacks import StdOutCallbackHandler\n",
    "handler = StdOutCallbackHandler()"
   ]
  },
  {
   "cell_type": "code",
   "execution_count": null,
   "id": "7d01ded1-b1bd-40b4-945a-1ba6648d643b",
   "metadata": {},
   "outputs": [],
   "source": [
    "# Initialize ChatOpenAI model\n",
    "llm = ChatOpenAI()"
   ]
  },
  {
   "cell_type": "code",
   "execution_count": null,
   "id": "9a2b4ea8-0d9c-41c9-9737-1c18e1dcfb86",
   "metadata": {},
   "outputs": [],
   "source": [
    "# Create a chat prompt template with system and human message roles\n",
    "# The template includes variables for dynamic content substitution\n",
    "prompt=ChatPromptTemplate.from_messages([(\"system\",\"You are a {subject} teacher\"),\n",
    "                                         (\"human\",\"Tell me about {concept}\")])"
   ]
  },
  {
   "cell_type": "code",
   "execution_count": null,
   "id": "df8d5326-b6bc-4917-b3f9-9fba464cb7f8",
   "metadata": {},
   "outputs": [],
   "source": [
    "# Create LLMChain with callback handlers\n",
    "# The callbacks parameter accepts a list of handlers that will be called\n",
    "# during chain execution to provide real-time monitoring and logging\n",
    "chain = LLMChain(llm=llm, prompt=prompt, callbacks=[handler])"
   ]
  },
  {
   "cell_type": "code",
   "execution_count": null,
   "id": "1384fe5b-069d-4920-9eb4-94eb2b5d69e8",
   "metadata": {},
   "outputs": [],
   "source": [
    "# Invoke the chain - the callback handler will print execution details\n",
    "# You'll see real-time updates about chain starts, LLM calls, and completions\n",
    "chain.invoke({\"subject\":\"physics\",\"concept\":\"galaxy\"})"
   ]
  }
 ],
 "metadata": {
  "kernelspec": {
   "display_name": "Python 3 (ipykernel)",
   "language": "python",
   "name": "python3"
  },
  "language_info": {
   "codemirror_mode": {
    "name": "ipython",
    "version": 3
   },
   "file_extension": ".py",
   "mimetype": "text/x-python",
   "name": "python",
   "nbconvert_exporter": "python",
   "pygments_lexer": "ipython3",
   "version": "3.10.16"
  }
 },
 "nbformat": 4,
 "nbformat_minor": 5
}
