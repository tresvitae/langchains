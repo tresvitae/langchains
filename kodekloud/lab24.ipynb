{
 "cells": [
  {
   "cell_type": "markdown",
   "id": "6f8e08e8",
   "metadata": {},
   "source": [
    "# Lab 24: Document Embeddings for Semantic Search\n",
    "\n",
    "This lab demonstrates how to create and work with document embeddings using OpenAI's embedding models. You'll learn:\n",
    "- How to use `OpenAIEmbeddings` to convert text into vector representations\n",
    "- Understanding different embedding models and their characteristics\n",
    "- Creating embeddings for multiple documents simultaneously\n",
    "- Exploring embedding dimensions and vector structure\n",
    "- Preparing embeddings for similarity search and RAG applications"
   ]
  },
  {
   "cell_type": "code",
   "execution_count": null,
   "id": "4024b71a-3165-4648-a6e1-7db4606c9a84",
   "metadata": {},
   "outputs": [],
   "source": [
    "# Import OpenAI's embedding model interface from LangChain\n",
    "# OpenAIEmbeddings provides access to OpenAI's powerful text embedding models\n",
    "# These embeddings convert text into high-dimensional vectors for semantic similarity\n",
    "from langchain_openai import OpenAIEmbeddings"
   ]
  },
  {
   "cell_type": "code",
   "execution_count": null,
   "id": "b5e9b91b",
   "metadata": {},
   "outputs": [],
   "source": [
    "# Configure OpenAI API credentials for accessing embedding models\n",
    "# Required for using OpenAI's text-embedding models\n",
    "import os\n",
    "os.environ[\"OPENAI_API_KEY\"] = \"your-api-key\""
   ]
  },
  {
   "cell_type": "code",
   "execution_count": null,
   "id": "0d64b429-169c-4cf4-8a00-b3c7713a3079",
   "metadata": {},
   "outputs": [],
   "source": [
    "# Initialize OpenAI embeddings with the text-embedding-3-large model\n",
    "# text-embedding-3-large: Latest and most capable embedding model from OpenAI\n",
    "# - High dimensional vectors (3072 dimensions)\n",
    "# - Excellent performance for semantic similarity and retrieval tasks\n",
    "# - Optimized for RAG applications and knowledge base searches\n",
    "embeddings = OpenAIEmbeddings(model=\"text-embedding-3-large\")"
   ]
  },
  {
   "cell_type": "code",
   "execution_count": null,
   "id": "7eae395d-8977-4cd9-996c-918aa320db2f",
   "metadata": {},
   "outputs": [],
   "source": [
    "# Create a sample dataset of sports-related documents for embedding\n",
    "# These documents contain similar themes (sports events) but different contexts\n",
    "# This allows us to explore semantic similarity between related content\n",
    "# Documents include both cricket and football World Cup content for comparison\n",
    "docs = [\n",
    "    \"Thrilling Finale Awaits: The Countdown to the Cricket World Cup Championship\",\n",
    "    \"Global Giants Clash: Football World Cup Semi-Finals Set the Stage for Epic Showdowns\", \n",
    "    \"Record Crowds and Unforgettable Moments: Highlights from the Cricket World Cup\",\n",
    "    \"From Underdogs to Contenders: Football World Cup Surprises and Breakout Stars\"\n",
    "]"
   ]
  },
  {
   "cell_type": "code",
   "execution_count": null,
   "id": "16722da0-c249-4c94-a77d-e8931a8d0b05",
   "metadata": {},
   "outputs": [],
   "source": [
    "# Generate embeddings for all documents in the list\n",
    "# embed_documents() processes multiple texts efficiently in a batch\n",
    "# Each document is converted to a high-dimensional vector representation\n",
    "# These vectors capture semantic meaning and enable similarity comparisons\n",
    "embed_docs = embeddings.embed_documents(docs)"
   ]
  },
  {
   "cell_type": "code",
   "execution_count": null,
   "id": "35742b66-0a54-4e8d-b292-c92dca07b340",
   "metadata": {},
   "outputs": [],
   "source": [
    "# Verify the number of generated embeddings matches input documents\n",
    "# Should return 4 (one embedding vector per input document)\n",
    "len(embed_docs)"
   ]
  },
  {
   "cell_type": "code",
   "execution_count": null,
   "id": "04aa868e-5944-4415-9ddf-8c94ab70ce50",
   "metadata": {},
   "outputs": [],
   "source": [
    "# Display the first embedding vector (for first document)\n",
    "# Shows the actual numerical representation as a list of floating-point numbers\n",
    "# These values represent the document's position in high-dimensional semantic space\n",
    "embed_docs[0]"
   ]
  },
  {
   "cell_type": "code",
   "execution_count": null,
   "id": "987a52a6-96ce-4d29-9d75-8ee04ec22a8b",
   "metadata": {},
   "outputs": [],
   "source": [
    "# Check the dimensionality of the embedding vector\n",
    "# text-embedding-3-large produces 3072-dimensional vectors\n",
    "# Higher dimensions generally capture more nuanced semantic relationships\n",
    "# This dimensionality is optimized for various downstream tasks like similarity search\n",
    "len(embed_docs[0])"
   ]
  }
 ],
 "metadata": {
  "kernelspec": {
   "display_name": "Python 3 (ipykernel)",
   "language": "python",
   "name": "python3"
  },
  "language_info": {
   "codemirror_mode": {
    "name": "ipython",
    "version": 3
   },
   "file_extension": ".py",
   "mimetype": "text/x-python",
   "name": "python",
   "nbconvert_exporter": "python",
   "pygments_lexer": "ipython3",
   "version": "3.10.16"
  }
 },
 "nbformat": 4,
 "nbformat_minor": 5
}
