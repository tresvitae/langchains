{
 "cells": [
  {
   "cell_type": "markdown",
   "id": "e01805c5",
   "metadata": {},
   "source": [
    "# Lab 19: Persistent Memory with Redis - Setup and Initial Conversations\n",
    "\n",
    "This lab demonstrates how to implement persistent memory in LangChain using Redis as a data store. You'll learn:\n",
    "- How to set up Redis-based chat message history\n",
    "- Using `RedisChatMessageHistory` for persistent conversation storage\n",
    "- Managing multiple conversation threads with session IDs\n",
    "- Building conversational AI with long-term memory capabilities\n",
    "- Understanding the difference between in-memory and persistent storage"
   ]
  },
  {
   "cell_type": "code",
   "execution_count": null,
   "id": "8c4816c8",
   "metadata": {
    "vscode": {
     "languageId": "plaintext"
    }
   },
   "outputs": [],
   "source": [
    "# Import LangChain components for Redis-based persistent memory implementation\n",
    "from langchain_core.prompts import ChatPromptTemplate, MessagesPlaceholder\n",
    "from langchain_openai.chat_models import ChatOpenAI\n",
    "# Redis-specific imports for persistent chat history\n",
    "from langchain_community.chat_message_histories import RedisChatMessageHistory\n",
    "from langchain_core.runnables.history import RunnableWithMessageHistory\n",
    "\n",
    "import os\n",
    "# Configure OpenAI API key\n",
    "os.environ[\"OPENAI_API_KEY\"] = \"your-api-key\"\n",
    "\n",
    "# Initialize ChatOpenAI model for conversational interactions\n",
    "model = ChatOpenAI()\n",
    "\n",
    "# Create chat prompt template with memory placeholder\n",
    "# MessagesPlaceholder will be populated with conversation history from Redis\n",
    "prompt = ChatPromptTemplate.from_messages(\n",
    "    [\n",
    "        (\n",
    "            \"system\",\n",
    "            \"You're an assistant who's good at {ability}. Respond in 20 words or fewer\",\n",
    "        ),\n",
    "        MessagesPlaceholder(variable_name=\"history\"),  # History from Redis\n",
    "        (\"human\", \"{input}\"),  # Current user input\n",
    "    ]\n",
    ")\n",
    "\n",
    "# Create base chain without memory integration yet\n",
    "base_chain = prompt | model"
   ]
  },
  {
   "cell_type": "code",
   "execution_count": null,
   "id": "61bb3626",
   "metadata": {
    "vscode": {
     "languageId": "plaintext"
    }
   },
   "outputs": [],
   "source": [
    "# Configure Redis connection parameters\n",
    "# Default Redis URL for local Redis instance on port 6379, database 0\n",
    "REDIS_URL = \"redis://localhost:6379/0\"\n",
    "\n",
    "# Initialize empty store (not used in this Redis implementation)\n",
    "# This variable exists for compatibility but Redis handles storage directly\n",
    "store = {}"
   ]
  },
  {
   "cell_type": "code",
   "execution_count": null,
   "id": "0c74228b",
   "metadata": {
    "vscode": {
     "languageId": "plaintext"
    }
   },
   "outputs": [],
   "source": [
    "# Define function to create Redis chat message history for each session\n",
    "# Each session_id creates a separate conversation thread in Redis\n",
    "def get_message_history(session_id: str) -> RedisChatMessageHistory:\n",
    "    \"\"\"Create or retrieve Redis-based message history for a specific session\"\"\"\n",
    "    return RedisChatMessageHistory(session_id, url=REDIS_URL)\n",
    "\n",
    "# Create a runnable chain with persistent Redis-based message history\n",
    "# This wraps our base chain with memory management capabilities\n",
    "redis_chain = RunnableWithMessageHistory(\n",
    "    base_chain,                          # The base conversational chain\n",
    "    get_message_history,                 # Function to get/create message history\n",
    "    input_messages_key=\"input\",          # Key for current user input\n",
    "    history_messages_key=\"history\",      # Key for injecting conversation history\n",
    ")"
   ]
  },
  {
   "cell_type": "code",
   "execution_count": null,
   "id": "9be76d1d",
   "metadata": {
    "vscode": {
     "languageId": "plaintext"
    }
   },
   "outputs": [],
   "source": [
    "# Start the first conversation in \"math-thread1\" session\n",
    "# This creates a new conversation thread and stores it in Redis\n",
    "# The session_id uniquely identifies this conversation for future retrieval\n",
    "redis_chain.invoke(\n",
    "    {\"ability\": \"math\", \n",
    "     \"input\": \"What does cosine mean?\"}, \n",
    "    config={\"configurable\": {\"session_id\": \"math-thread1\"}},  # Creates persistent thread\n",
    ")"
   ]
  },
  {
   "cell_type": "code",
   "execution_count": null,
   "id": "0192cee7",
   "metadata": {
    "vscode": {
     "languageId": "plaintext"
    }
   },
   "outputs": [],
   "source": [
    "# Continue the conversation in the same \"math-thread1\" session\n",
    "# Redis retrieves previous messages, so \"Tell me more!\" has context about cosine\n",
    "# The AI can reference the previous question about cosine\n",
    "redis_chain.invoke(\n",
    "    {\"ability\": \"math\", \"input\": \"Tell me more!\"},\n",
    "    config={\"configurable\": {\"session_id\": \"math-thread1\"}},  # Same thread continues\n",
    ")"
   ]
  },
  {
   "cell_type": "code",
   "execution_count": null,
   "id": "15882a21",
   "metadata": {
    "vscode": {
     "languageId": "plaintext"
    }
   },
   "outputs": [],
   "source": [
    "# Start a completely separate conversation in \"phy-thread1\" session\n",
    "# This demonstrates multiple independent conversation threads in Redis\n",
    "# Different session_id = different conversation context\n",
    "redis_chain.invoke(\n",
    "    {\"ability\": \"physics\", \n",
    "     \"input\": \"What is the theory of relativity?\"}, \n",
    "    config={\"configurable\": {\"session_id\": \"phy-thread1\"}},  # New independent thread\n",
    ")"
   ]
  },
  {
   "cell_type": "code",
   "execution_count": null,
   "id": "4649b63f",
   "metadata": {
    "vscode": {
     "languageId": "plaintext"
    }
   },
   "outputs": [],
   "source": [
    "# Continue the physics conversation in \"phy-thread1\" session\n",
    "# \"Tell me more!\" now refers to relativity theory, not cosine\n",
    "# Each session maintains separate conversation context in Redis\n",
    "redis_chain.invoke(\n",
    "    {\"ability\": \"physics\", \"input\": \"Tell me more!\"},\n",
    "    config={\"configurable\": {\"session_id\": \"phy-thread1\"}},  # Physics thread continues\n",
    ")"
   ]
  }
 ],
 "metadata": {
  "language_info": {
   "name": "python"
  }
 },
 "nbformat": 4,
 "nbformat_minor": 5
}
