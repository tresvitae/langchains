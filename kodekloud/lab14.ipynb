{
 "cells": [
  {
   "cell_type": "markdown",
   "id": "30504b49",
   "metadata": {},
   "source": [
    "# Lab 14: Advanced Batch Processing with LangChain\n",
    "\n",
    "This lab extends batch processing concepts with additional examples and demonstrates best practices for handling multiple queries efficiently. You'll learn:\n",
    "- Advanced batch processing techniques\n",
    "- Handling different types of batch inputs\n",
    "- Optimizing batch operations for better performance\n",
    "- Working with batch results and response handling"
   ]
  },
  {
   "cell_type": "code",
   "execution_count": null,
   "id": "c27968ed-e43a-4e75-a84d-ecd2e9f0ad36",
   "metadata": {},
   "outputs": [],
   "source": [
    "# Import LangChain components for advanced batch processing\n",
    "# This lab builds upon basic batch processing concepts\n",
    "from langchain_openai import ChatOpenAI\n",
    "from langchain_core.prompts import ChatPromptTemplate\n",
    "from langchain_core.output_parsers import StrOutputParser"
   ]
  },
  {
   "cell_type": "code",
   "execution_count": null,
   "id": "cd9938ed",
   "metadata": {},
   "outputs": [],
   "source": [
    "# Set up OpenAI API credentials for batch processing\n",
    "import os\n",
    "os.environ[\"OPENAI_API_KEY\"] = \"your-api-key\""
   ]
  },
  {
   "cell_type": "code",
   "execution_count": null,
   "id": "91546114-2669-4324-a355-80a6189ffc91",
   "metadata": {},
   "outputs": [],
   "source": [
    "# Create a reusable prompt template for batch operations\n",
    "# This template will be applied consistently across all batch items\n",
    "prompt = ChatPromptTemplate.from_template(\"\"\"\n",
    "    You are a helpful assistant. \n",
    "    Answer the following question: {question}\n",
    "    \"\"\")"
   ]
  },
  {
   "cell_type": "code",
   "execution_count": null,
   "id": "1dcdc3b2-8ba3-4fb3-b8a2-b2a60fd12b87",
   "metadata": {},
   "outputs": [],
   "source": [
    "# Initialize the language model for batch processing\n",
    "# Batch operations can utilize connection pooling and request optimization\n",
    "llm = ChatOpenAI()"
   ]
  },
  {
   "cell_type": "code",
   "execution_count": null,
   "id": "691aaf51-5580-411f-8dda-f91dffdecb02",
   "metadata": {},
   "outputs": [],
   "source": [
    "# String output parser handles batch responses efficiently\n",
    "output_parser = StrOutputParser()"
   ]
  },
  {
   "cell_type": "code",
   "execution_count": null,
   "id": "26501de0-6560-4039-9373-f9b8c6acd37e",
   "metadata": {},
   "outputs": [],
   "source": [
    "# Create the processing chain optimized for batch operations\n",
    "chain = prompt | llm | output_parser"
   ]
  },
  {
   "cell_type": "code",
   "execution_count": null,
   "id": "95ed0cf3-be84-4071-a435-ad2e269779cc",
   "metadata": {},
   "outputs": [],
   "source": [
    "# Define a batch of movie-related questions for processing\n",
    "# Each item must have the same structure to match the prompt template\n",
    "# This demonstrates handling similar but distinct queries efficiently\n",
    "questions=[\n",
    "    {\"question\":\"Tell me about The Godfather Movie\"},\n",
    "    {\"question\":\"Tell me about Avatar Movie\"}\n",
    "    ]"
   ]
  },
  {
   "cell_type": "code",
   "execution_count": null,
   "id": "3c6a1602-2a76-4d0c-937f-dbf4814562d3",
   "metadata": {},
   "outputs": [],
   "source": [
    "# Execute batch processing - more efficient than sequential individual calls\n",
    "# The LLM provider can optimize concurrent requests for better throughput\n",
    "# Returns results in the same order as input questions\n",
    "response = chain.batch(questions)"
   ]
  },
  {
   "cell_type": "code",
   "execution_count": null,
   "id": "9c99ca1e-28d7-4097-8ab3-666ce6154648",
   "metadata": {},
   "outputs": [],
   "source": [
    "# Display the second response (Avatar movie information)\n",
    "# Batch responses are indexed: response[0] = first question, response[1] = second question\n",
    "print(response[1])"
   ]
  }
 ],
 "metadata": {
  "kernelspec": {
   "display_name": "Python 3 (ipykernel)",
   "language": "python",
   "name": "python3"
  },
  "language_info": {
   "codemirror_mode": {
    "name": "ipython",
    "version": 3
   },
   "file_extension": ".py",
   "mimetype": "text/x-python",
   "name": "python",
   "nbconvert_exporter": "python",
   "pygments_lexer": "ipython3",
   "version": "3.10.16"
  }
 },
 "nbformat": 4,
 "nbformat_minor": 5
}
