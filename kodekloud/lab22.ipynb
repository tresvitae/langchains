{
 "cells": [
  {
   "cell_type": "markdown",
   "id": "278ef31b",
   "metadata": {},
   "source": [
    "# Lab 22: Document Loading from Web Pages\n",
    "\n",
    "This lab demonstrates how to load and process web page content using LangChain's document loaders. You'll learn:\n",
    "- How to use `WebBaseLoader` for extracting content from websites\n",
    "- Loading web pages and converting them to document format\n",
    "- Understanding web document structure and metadata\n",
    "- Accessing and analyzing web content for LangChain workflows\n",
    "- Preparing web data for further processing and analysis"
   ]
  },
  {
   "cell_type": "code",
   "execution_count": null,
   "id": "34994c79-7d7f-4cc4-84ca-ebf164ac4ee8",
   "metadata": {},
   "outputs": [],
   "source": [
    "# Import LangChain web document loader for processing web page content\n",
    "# WebBaseLoader is designed to extract and parse content from web URLs\n",
    "from langchain_community.document_loaders import WebBaseLoader"
   ]
  },
  {
   "cell_type": "code",
   "execution_count": null,
   "id": "39e48f32",
   "metadata": {},
   "outputs": [],
   "source": [
    "# Configure OpenAI API key for potential downstream processing\n",
    "# While not directly used for web loading, this enables LLM integration with loaded content\n",
    "import os\n",
    "os.environ[\"OPENAI_API_KEY\"] = \"your-api-key\""
   ]
  },
  {
   "cell_type": "code",
   "execution_count": null,
   "id": "4474f046-8697-446c-a353-27e9f4bc30b0",
   "metadata": {},
   "outputs": [],
   "source": [
    "# Define the URL of the web page to load and process\n",
    "# This example uses a tech news article about Meta's AI assistant and Llama 3\n",
    "# You can replace this with any publicly accessible web page URL\n",
    "URL = \"https://www.theverge.com/2024/4/18/24133808/meta-ai-assistant-llama-3-chatgpt-openai-rival\""
   ]
  },
  {
   "cell_type": "code",
   "execution_count": null,
   "id": "a1b16cda-70ed-485c-92fd-4871a06487d9",
   "metadata": {},
   "outputs": [],
   "source": [
    "# Initialize the WebBaseLoader with the specified URL\n",
    "# The loader will fetch and parse the web page content when load() is called\n",
    "loader = WebBaseLoader(URL)"
   ]
  },
  {
   "cell_type": "code",
   "execution_count": null,
   "id": "ebddab54-bea4-4cab-adcd-1c52a19b3b75",
   "metadata": {},
   "outputs": [],
   "source": [
    "# Load the web page content (first attempt)\n",
    "# This fetches the HTML and extracts the main text content\n",
    "data = loader.load()"
   ]
  },
  {
   "cell_type": "code",
   "execution_count": null,
   "id": "394d80d8-04fb-4e6b-9496-28b9a2d72c31",
   "metadata": {},
   "outputs": [],
   "source": [
    "# Load the web page content (duplicate operation for demonstration)\n",
    "# In practice, you would only need to call load() once\n",
    "# The result is a list of Document objects containing the extracted content\n",
    "data = loader.load()"
   ]
  },
  {
   "cell_type": "code",
   "execution_count": null,
   "id": "fbad0431-ec99-445a-9383-8902ff693f0e",
   "metadata": {},
   "outputs": [],
   "source": [
    "# Check the number of documents loaded from the web page\n",
    "# Typically returns 1 document containing the entire page content\n",
    "len(data)"
   ]
  },
  {
   "cell_type": "code",
   "execution_count": null,
   "id": "66ea0e64-b758-43ad-aa31-8a4e7c4a33ad",
   "metadata": {},
   "outputs": [],
   "source": [
    "# Display the loaded document(s) structure and content\n",
    "# This shows the Document object with page_content (extracted text) and metadata (URL, title, etc.)\n",
    "# The content includes the main article text extracted from the HTML\n",
    "data"
   ]
  }
 ],
 "metadata": {
  "kernelspec": {
   "display_name": "Python 3 (ipykernel)",
   "language": "python",
   "name": "python3"
  },
  "language_info": {
   "codemirror_mode": {
    "name": "ipython",
    "version": 3
   },
   "file_extension": ".py",
   "mimetype": "text/x-python",
   "name": "python",
   "nbconvert_exporter": "python",
   "pygments_lexer": "ipython3",
   "version": "3.10.16"
  }
 },
 "nbformat": 4,
 "nbformat_minor": 5
}
