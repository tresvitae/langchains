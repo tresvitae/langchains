{
 "cells": [
  {
   "cell_type": "markdown",
   "id": "d607782b",
   "metadata": {},
   "source": [
    "# Lab 32: Yahoo Finance News Tool - Financial Information Integration\n",
    "\n",
    "## Learning Objectives\n",
    "In this lab, you will learn how to:\n",
    "- Integrate financial news and data using Yahoo Finance News tool\n",
    "- Access real-time stock market information and company news\n",
    "- Use domain-specific tools for specialized information retrieval\n",
    "- Process financial data for AI applications and analysis\n",
    "- Understand tool configuration for financial market applications\n",
    "- Build foundation for financial AI assistants and analysis systems\n",
    "\n",
    "## Overview\n",
    "This lab introduces the Yahoo Finance News tool, which provides access to real-time financial news and market information. This represents domain-specific tool integration where specialized APIs provide focused, high-quality data for particular industries. You'll learn how to retrieve current financial news about specific stocks and companies, which is essential for building financial AI applications, trading assistants, and market analysis systems."
   ]
  },
  {
   "cell_type": "code",
   "execution_count": null,
   "id": "68806c1c-9e5b-4d19-9a5d-3a98b528ef26",
   "metadata": {},
   "outputs": [],
   "source": [
    "# Yahoo Finance News Tool Integration\n",
    "# This lab demonstrates domain-specific tool integration for financial market information\n",
    "# Yahoo Finance provides comprehensive financial news, stock data, and market analysis\n",
    "\n",
    "# LangChain Yahoo Finance Tool\n",
    "from langchain_community.tools.yahoo_finance_news import YahooFinanceNewsTool\n",
    "\n",
    "# Yahoo Finance Tool Capabilities:\n",
    "# - Real-time financial news for specific stocks and companies\n",
    "# - Market analysis and expert commentary\n",
    "# - Company-specific information and developments\n",
    "# - Integration with broader financial data ecosystem\n",
    "# - Structured news data ideal for AI processing"
   ]
  },
  {
   "cell_type": "code",
   "execution_count": null,
   "id": "3c5760b9",
   "metadata": {},
   "outputs": [],
   "source": [
    "# OpenAI API Configuration (Optional for Yahoo Finance Tool)\n",
    "# While Yahoo Finance tool works independently, API setup enables potential integration\n",
    "# with language models for processing financial news content\n",
    "import os\n",
    "\n",
    "# Set OpenAI API key for future integration possibilities\n",
    "# Could be used for analyzing, summarizing, or processing financial news\n",
    "os.environ[\"OPENAI_API_KEY\"] = \"your-api-key\""
   ]
  },
  {
   "cell_type": "code",
   "execution_count": null,
   "id": "0b52524b-4c41-41c3-858f-d47d246b0f89",
   "metadata": {},
   "outputs": [],
   "source": [
    "# Initialize Yahoo Finance News Tool\n",
    "# YahooFinanceNewsTool provides standardized access to financial market information\n",
    "# No additional configuration required - uses Yahoo Finance's public API\n",
    "\n",
    "# Tool capabilities:\n",
    "# - Retrieve latest news for specific stock symbols\n",
    "# - Access company-specific financial developments\n",
    "# - Get market analysis and expert commentary\n",
    "# - Structured news data with titles, summaries, and links\n",
    "# - Real-time information for current market conditions\n",
    "tool = YahooFinanceNewsTool()"
   ]
  },
  {
   "cell_type": "code",
   "execution_count": null,
   "id": "fbf54200-d98a-4030-91a1-d45aa3f1cba5",
   "metadata": {},
   "outputs": [],
   "source": [
    "# Execute Financial News Query\n",
    "# Retrieve latest news about NVIDIA (NVDA) - a major AI and semiconductor company\n",
    "# NVDA is an excellent example for financial AI applications due to high market activity\n",
    "\n",
    "# Query process:\n",
    "# 1. Tool accepts stock symbol as input (NVDA)\n",
    "# 2. Fetches latest news from Yahoo Finance API\n",
    "# 3. Returns structured news data with titles, summaries, and sources\n",
    "# 4. Provides real-time financial information for AI analysis\n",
    "res = tool.run(\"NVDA\")"
   ]
  },
  {
   "cell_type": "code",
   "execution_count": null,
   "id": "c9645676-b130-4f49-a4c1-e8d88d1c3146",
   "metadata": {},
   "outputs": [],
   "source": [
    "# Display Financial News Results\n",
    "# Show the structured financial news data retrieved from Yahoo Finance\n",
    "# Demonstrates real-time access to market-specific information\n",
    "\n",
    "print(\"📈 Yahoo Finance News Results for NVDA:\")\n",
    "print(\"=\" * 50)\n",
    "print(res)\n",
    "print(\"=\" * 50)"
   ]
  },
  {
   "cell_type": "markdown",
   "id": "d1e36618",
   "metadata": {},
   "source": [
    "## Key Takeaways and Financial Tool Integration\n",
    "\n",
    "### What You've Accomplished\n",
    "1. **Domain-Specific Tool Integration**: Successfully integrated Yahoo Finance for specialized financial data\n",
    "2. **Real-Time Market Access**: Retrieved current financial news and market information\n",
    "3. **Structured Financial Data**: Processed news data in a format suitable for AI applications\n",
    "4. **Stock Symbol Queries**: Used standardized financial identifiers for information retrieval\n",
    "5. **Foundation for Financial AI**: Built groundwork for financial analysis and trading systems\n",
    "\n",
    "### Financial Tool Benefits\n",
    "- **Market Specificity**: Focused on financial markets and investment information\n",
    "- **Real-Time Data**: Current news and market developments\n",
    "- **Structured Format**: Consistent data structure for automated processing\n",
    "- **Professional Sources**: High-quality financial journalism and analysis\n",
    "- **Standardized Symbols**: Uses universal stock ticker symbols\n",
    "\n",
    "### Integration Patterns for Financial AI\n",
    "- **Portfolio Analysis**: Combine with other financial tools for comprehensive market view\n",
    "- **Sentiment Analysis**: Process news content to gauge market sentiment\n",
    "- **Trading Signals**: Analyze news for potential market movements\n",
    "- **Risk Assessment**: Monitor company-specific news for risk factors\n",
    "- **Research Automation**: Gather financial intelligence for investment decisions\n",
    "\n",
    "### Real-World Applications\n",
    "- **Trading Assistants**: AI systems that provide market insights and analysis\n",
    "- **Portfolio Management**: Tools for monitoring investments and market conditions\n",
    "- **Financial Research**: Automated gathering of company and market information\n",
    "- **Risk Monitoring**: Systems that track financial developments for risk assessment\n",
    "- **Investment Advisory**: AI assistants for investment recommendations and analysis"
   ]
  }
 ],
 "metadata": {
  "kernelspec": {
   "display_name": "Python 3 (ipykernel)",
   "language": "python",
   "name": "python3"
  },
  "language_info": {
   "codemirror_mode": {
    "name": "ipython",
    "version": 3
   },
   "file_extension": ".py",
   "mimetype": "text/x-python",
   "name": "python",
   "nbconvert_exporter": "python",
   "pygments_lexer": "ipython3",
   "version": "3.10.16"
  }
 },
 "nbformat": 4,
 "nbformat_minor": 5
}
