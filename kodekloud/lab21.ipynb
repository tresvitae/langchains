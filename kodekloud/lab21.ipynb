{
 "cells": [
  {
   "cell_type": "markdown",
   "id": "944dda82",
   "metadata": {},
   "source": [
    "# Lab 21: Document Loading from PDF Files\n",
    "\n",
    "This lab demonstrates how to load and process PDF documents using LangChain's document loaders. You'll learn:\n",
    "- How to use `PyPDFLoader` for extracting text from PDF files\n",
    "- Loading and splitting PDF documents into manageable chunks\n",
    "- Understanding document structure and metadata\n",
    "- Accessing specific pages and content from PDF files\n",
    "- Preparing PDF data for further processing in LangChain workflows"
   ]
  },
  {
   "cell_type": "code",
   "execution_count": null,
   "id": "0af44e79-f4fd-454e-b8c5-2b0d368be36a",
   "metadata": {},
   "outputs": [],
   "source": [
    "# Import LangChain PDF document loader for processing PDF files\n",
    "# PyPDFLoader is specifically designed to handle PDF document extraction\n",
    "from langchain_community.document_loaders import PyPDFLoader"
   ]
  },
  {
   "cell_type": "code",
   "execution_count": null,
   "id": "71a437ec",
   "metadata": {},
   "outputs": [],
   "source": [
    "# Configure OpenAI API key for potential downstream processing\n",
    "# While not used directly in document loading, this enables LLM integration\n",
    "import os\n",
    "os.environ[\"OPENAI_API_KEY\"] = \"your-api-key\""
   ]
  },
  {
   "cell_type": "code",
   "execution_count": null,
   "id": "2f7cc872-b9b8-4ecf-b161-d6aceac0c7e1",
   "metadata": {},
   "outputs": [],
   "source": [
    "# Initialize PDF loader with the path to the handbook PDF file\n",
    "# The loader will extract text content from the specified PDF document\n",
    "loader = PyPDFLoader(\"data/handbook.pdf\")"
   ]
  },
  {
   "cell_type": "code",
   "execution_count": null,
   "id": "a6469665-de35-4255-ab94-dc7f99177333",
   "metadata": {},
   "outputs": [],
   "source": [
    "# Load the PDF and automatically split it into individual pages\n",
    "# load_and_split() extracts text from each page and creates separate Document objects\n",
    "# Each page becomes a distinct document with its own metadata (page number, source, etc.)\n",
    "pages = loader.load_and_split()"
   ]
  },
  {
   "cell_type": "code",
   "execution_count": null,
   "id": "e77dd1d1-2213-4be9-9691-1d827fa25f0e",
   "metadata": {},
   "outputs": [],
   "source": [
    "# Display all pages (commented out to avoid overwhelming output)\n",
    "# Uncomment to see the full structure of all extracted pages\n",
    "#pages"
   ]
  },
  {
   "cell_type": "code",
   "execution_count": null,
   "id": "5dce94ca-aeeb-4307-8eab-55791b53049c",
   "metadata": {},
   "outputs": [
    {
     "data": {
      "text/plain": [
       "3"
      ]
     },
     "execution_count": 8,
     "metadata": {},
     "output_type": "execute_result"
    }
   ],
   "source": [
    "# Check the total number of pages extracted from the PDF\n",
    "# This helps understand the document size and structure\n",
    "len(pages)"
   ]
  },
  {
   "cell_type": "code",
   "execution_count": null,
   "id": "77ba3867-b92a-4f40-a431-3ad473bb5315",
   "metadata": {},
   "outputs": [
    {
     "data": {
      "text/plain": [
       "\"• Paid vacation leave. You are eligible for 10 days of paid vacation leave per year, which can be accrued and carried over to the next year. You must request your vacation leave at least two weeks in advance, and obtain approval from your supervisor. You can use your vacation leave for any personal or recreational purpose. • Paid sick leave. You are eligible for 10 days of paid sick leave per year, which can be used for any illness or injury that prevents you from working. You must notify your supervisor as soon as possible if you need to take sick leave, and provide a medical certiﬁcate if required. You can also use your sick leave to care for a family member who is ill or injured. • Unpaid personal leave. You are eligible for up to 10 days of unpaid personal leave per year, which can be used for any personal or family reason that is not covered by the other types of leave. You must request your personal leave at least two weeks in advance, and obtain approval from your supervisor and the HR department. You can use your personal leave for reasons such as education, bereavement, jury duty, or military service. HR Policies As an employee of LakeSide Bicycles, you are subject to the following HR policies: • Performance appraisal. You will receive a performance appraisal from your supervisor at least once a year, which will evaluate your achievements, strengths, and areas for improvement. You will also have the opportunity to provide feedback on your supervisor and your work environment. The performance appraisal will be used to determine your eligibility for promotion, salary increase, or bonus. • Training and development. You will have access to various training and development opportunities, such as workshops, courses, mentoring, and coaching, that will help you enhance your skills and knowledge, and advance your career. You are encouraged to discuss your training and development needs and goals with your supervisor and the HR department. • Online courses. You will have the option to enroll in online courses that are relevant to your job role and career aspirations, with the approval of your supervisor and the HR department. You will be responsible for completing the online courses within the speciﬁed time frame and reporting your progress and results to your supervisor and the HR department. The organization will cover the cost of the online courses up to a maximum of $500 per year per employee. You can request additional funding if you can demonstrate the value and beneﬁt of the online courses for your professional development and the organization's goals. • Discipline and grievance. You will be subject to disciplinary action if you violate any of the organization policies, or if your performance or conduct is unsatisfactory. The disciplinary action will depend on the nature and severity of the violation, and may include verbal warning, written warning, suspension, or termination. You have the right to appeal any disciplinary action, and to ﬁle a grievance if you have any\""
      ]
     },
     "execution_count": 10,
     "metadata": {},
     "output_type": "execute_result"
    }
   ],
   "source": [
    "# Access the text content of the second page (index 1)\n",
    "# page_content attribute contains the extracted text from that specific page\n",
    "# This demonstrates how to work with individual pages from the PDF\n",
    "pages[1].page_content"
   ]
  },
  {
   "cell_type": "code",
   "execution_count": null,
   "id": "21591e83-b422-4e67-982a-10650c6b9912",
   "metadata": {},
   "outputs": [],
   "source": []
  }
 ],
 "metadata": {
  "kernelspec": {
   "display_name": "Python 3 (ipykernel)",
   "language": "python",
   "name": "python3"
  },
  "language_info": {
   "codemirror_mode": {
    "name": "ipython",
    "version": 3
   },
   "file_extension": ".py",
   "mimetype": "text/x-python",
   "name": "python",
   "nbconvert_exporter": "python",
   "pygments_lexer": "ipython3",
   "version": "3.10.16"
  }
 },
 "nbformat": 4,
 "nbformat_minor": 5
}
