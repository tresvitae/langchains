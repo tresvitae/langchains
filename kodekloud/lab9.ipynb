{
 "cells": [
  {
   "cell_type": "markdown",
   "id": "81b3d076",
   "metadata": {},
   "source": [
    "# Lab 9: LangChain Chain Verbose Mode\n",
    "\n",
    "This lab focuses on using the `verbose=True` parameter in LangChain chains to get detailed output during execution. You'll learn:\n",
    "- How to enable verbose mode in LLMChain\n",
    "- Understanding the difference between verbose mode and global debugging\n",
    "- Monitoring chain execution with built-in verbosity features"
   ]
  },
  {
   "cell_type": "code",
   "execution_count": null,
   "id": "13b83ed1-af5b-46e5-9389-dba9eb5b0bb4",
   "metadata": {},
   "outputs": [],
   "source": [
    "# Import necessary libraries for demonstrating verbose mode in LangChain\n",
    "from langchain.chains import LLMChain\n",
    "from langchain_openai import ChatOpenAI\n",
    "from langchain.prompts import ChatPromptTemplate\n",
    "from langchain_core.callbacks import StdOutCallbackHandler\n",
    "import os"
   ]
  },
  {
   "cell_type": "code",
   "execution_count": null,
   "id": "7cb54bca",
   "metadata": {},
   "outputs": [],
   "source": [
    "# Configure OpenAI API key - replace with your actual key\n",
    "os.environ[\"OPENAI_API_KEY\"] = \"your-api-key\""
   ]
  },
  {
   "cell_type": "code",
   "execution_count": null,
   "id": "ef45bb5c-3548-43a1-bd0b-a7602bfe0fcf",
   "metadata": {},
   "outputs": [],
   "source": [
    "# Define a chat prompt template with placeholders for subject and concept\n",
    "# This template will be used in the verbose chain execution\n",
    "prompt=ChatPromptTemplate.from_messages([(\"system\",\"You are a {subject} teacher\"),\n",
    "                                                  (\"human\",\"Tell me about {concept}\")])"
   ]
  },
  {
   "cell_type": "code",
   "execution_count": null,
   "id": "a035b4d8-62de-4b33-83d0-1f654e5a5d3a",
   "metadata": {},
   "outputs": [],
   "source": [
    "# Initialize ChatOpenAI model with default configuration\n",
    "llm = ChatOpenAI()"
   ]
  },
  {
   "cell_type": "code",
   "execution_count": null,
   "id": "2fc21cf4-d1c8-45b8-b2f5-6b4c5749142e",
   "metadata": {},
   "outputs": [],
   "source": [
    "# Create LLMChain with verbose=True to enable detailed output logging\n",
    "# This will show the formatted prompts and responses during execution\n",
    "# verbose=True provides chain-level debugging without global settings\n",
    "chain = LLMChain(llm=llm, prompt=prompt, verbose=True)"
   ]
  },
  {
   "cell_type": "code",
   "execution_count": null,
   "id": "ba809957-4097-4663-b14a-69450ac59903",
   "metadata": {},
   "outputs": [],
   "source": [
    "# Execute the chain with verbose output enabled\n",
    "# You'll see the formatted prompt and the model's response\n",
    "chain.invoke({\"subject\":\"physics\",\"concept\":\"galaxy\"})"
   ]
  }
 ],
 "metadata": {
  "kernelspec": {
   "display_name": "Python 3 (ipykernel)",
   "language": "python",
   "name": "python3"
  },
  "language_info": {
   "codemirror_mode": {
    "name": "ipython",
    "version": 3
   },
   "file_extension": ".py",
   "mimetype": "text/x-python",
   "name": "python",
   "nbconvert_exporter": "python",
   "pygments_lexer": "ipython3",
   "version": "3.10.16"
  }
 },
 "nbformat": 4,
 "nbformat_minor": 5
}
