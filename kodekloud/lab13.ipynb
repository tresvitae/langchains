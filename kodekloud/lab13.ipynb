{
 "cells": [
  {
   "cell_type": "markdown",
   "id": "e34c5dcc",
   "metadata": {},
   "source": [
    "# Lab 13: Batch Processing with LangChain\n",
    "\n",
    "This lab demonstrates how to process multiple inputs simultaneously using batch processing. You'll learn:\n",
    "- How to use the `batch()` method for multiple queries\n",
    "- Benefits of batch processing for efficiency\n",
    "- Processing multiple questions in a single operation\n",
    "- Understanding batch vs. individual invocations"
   ]
  },
  {
   "cell_type": "code",
   "execution_count": null,
   "id": "c27968ed-e43a-4e75-a84d-ecd2e9f0ad36",
   "metadata": {},
   "outputs": [],
   "source": [
    "# Import LangChain components for batch processing demonstration\n",
    "# Same components as basic chains - batch processing is a different execution method\n",
    "from langchain_openai import ChatOpenAI\n",
    "from langchain_core.prompts import ChatPromptTemplate\n",
    "from langchain_core.output_parsers import StrOutputParser"
   ]
  },
  {
   "cell_type": "code",
   "execution_count": null,
   "id": "cd9938ed",
   "metadata": {},
   "outputs": [],
   "source": [
    "# Configure OpenAI API credentials\n",
    "import os\n",
    "os.environ[\"OPENAI_API_KEY\"] = \"your-api-key\""
   ]
  },
  {
   "cell_type": "code",
   "execution_count": null,
   "id": "91546114-2669-4324-a355-80a6189ffc91",
   "metadata": {},
   "outputs": [],
   "source": [
    "# Create prompt template - will be applied to each item in the batch\n",
    "# Each question in the batch will use this same template structure\n",
    "prompt = ChatPromptTemplate.from_template(\"\"\"\n",
    "    You are a helpful assistant. \n",
    "    Answer the following question: {question}\n",
    "    \"\"\")"
   ]
  },
  {
   "cell_type": "code",
   "execution_count": null,
   "id": "1dcdc3b2-8ba3-4fb3-b8a2-b2a60fd12b87",
   "metadata": {},
   "outputs": [],
   "source": [
    "# Initialize language model - batch processing can improve efficiency\n",
    "llm = ChatOpenAI()"
   ]
  },
  {
   "cell_type": "code",
   "execution_count": null,
   "id": "691aaf51-5580-411f-8dda-f91dffdecb02",
   "metadata": {},
   "outputs": [],
   "source": [
    "# Output parser will process each response in the batch\n",
    "output_parser = StrOutputParser()"
   ]
  },
  {
   "cell_type": "code",
   "execution_count": null,
   "id": "26501de0-6560-4039-9373-f9b8c6acd37e",
   "metadata": {},
   "outputs": [],
   "source": [
    "# Compose the chain - same structure as individual processing chains\n",
    "chain = prompt | llm | output_parser"
   ]
  },
  {
   "cell_type": "code",
   "execution_count": null,
   "id": "95ed0cf3-be84-4071-a435-ad2e269779cc",
   "metadata": {},
   "outputs": [],
   "source": [
    "# Prepare a list of questions for batch processing\n",
    "# Each dictionary represents one input that will be processed by the chain\n",
    "# The format must match what the prompt template expects\n",
    "questions=[\n",
    "    {\"question\":\"Tell me about The Godfather Movie\"},\n",
    "    {\"question\":\"Tell me about Avatar Movie\"}\n",
    "    ]"
   ]
  },
  {
   "cell_type": "code",
   "execution_count": null,
   "id": "3c6a1602-2a76-4d0c-937f-dbf4814562d3",
   "metadata": {},
   "outputs": [],
   "source": [
    "# Execute batch processing - all questions are processed simultaneously\n",
    "# This is more efficient than multiple individual invoke() calls\n",
    "# Returns a list of responses in the same order as the input\n",
    "response = chain.batch(questions)"
   ]
  },
  {
   "cell_type": "code",
   "execution_count": null,
   "id": "9c99ca1e-28d7-4097-8ab3-666ce6154648",
   "metadata": {},
   "outputs": [],
   "source": [
    "# Access individual responses from the batch result\n",
    "# response[0] = answer to first question, response[1] = answer to second question\n",
    "print(response[1])"
   ]
  }
 ],
 "metadata": {
  "kernelspec": {
   "display_name": "Python 3 (ipykernel)",
   "language": "python",
   "name": "python3"
  },
  "language_info": {
   "codemirror_mode": {
    "name": "ipython",
    "version": 3
   },
   "file_extension": ".py",
   "mimetype": "text/x-python",
   "name": "python",
   "nbconvert_exporter": "python",
   "pygments_lexer": "ipython3",
   "version": "3.10.16"
  }
 },
 "nbformat": 4,
 "nbformat_minor": 5
}
