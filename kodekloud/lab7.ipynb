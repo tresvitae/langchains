{
 "cells": [
  {
   "cell_type": "code",
   "execution_count": 1,
   "id": "6c81a803-7e5e-4042-94f8-360ec894935f",
   "metadata": {},
   "outputs": [],
   "source": [
    "from typing import List\n",
    "\n",
    "from langchain_openai import OpenAI\n",
    "from pydantic import BaseModel, Field, validator\n",
    "from langchain.prompts import PromptTemplate\n",
    "from langchain.output_parsers import PydanticOutputParser\n",
    "import os"
   ]
  },
  {
   "cell_type": "code",
   "execution_count": null,
   "id": "f35c47ed",
   "metadata": {},
   "outputs": [],
   "source": [
    "os.environ[\"OPENAI_API_KEY\"]=\"YOUR_OPENAI_API_KEY\""
   ]
  },
  {
   "cell_type": "code",
   "execution_count": 2,
   "id": "12b80cbe-4431-4541-bfc7-fe88aa212fd5",
   "metadata": {},
   "outputs": [],
   "source": [
    "model = OpenAI()"
   ]
  },
  {
   "cell_type": "code",
   "execution_count": null,
   "id": "2c17140b-f3b0-4332-a1c3-de20e930ca3f",
   "metadata": {},
   "outputs": [],
   "source": [
    "class Ticket(BaseModel):\n",
    "    date: str = Field(description=\"show date\")\n",
    "    time: str = Field(description=\"show time\")\n",
    "    theater: str = Field(description=\"theater name\")\n",
    "    count: int = Field(description=\"number of tickets\")\n",
    "    movie: str = Field(description=\"preferred movie\")"
   ]
  },
  {
   "cell_type": "code",
   "execution_count": null,
   "id": "514f5720-90c2-4e17-8528-7eed7498298b",
   "metadata": {},
   "outputs": [],
   "source": [
    "# Create a pydantic output parser.\n",
    "parser = PydanticOutputParser(pydantic_object=Ticket)"
   ]
  },
  {
   "cell_type": "code",
   "execution_count": 1,
   "id": "502d2ad1-3b51-4515-b95b-6b8cb8e0a5a4",
   "metadata": {},
   "outputs": [],
   "source": [
    "# Define template for prompt.\n",
    "ticket_template = '''\n",
    "  Book us a movie ticket for two this Friday at 6:00 PM. \n",
    "  Choose any theater, it doesn't matter. Send the confirmation by email.\n",
    "  Our preferred movie is: {query}\n",
    "  Format instructions:\n",
    "  {format_instructions}\n",
    "'''"
   ]
  },
  {
   "cell_type": "code",
   "execution_count": null,
   "id": "3dec812f-0fc2-4818-a51c-c0709984ca76",
   "metadata": {},
   "outputs": [],
   "source": [
    "# Create a prompt template.\n",
    "prompt = PromptTemplate(\n",
    "    template=ticket_template,\n",
    "    input_variables=[\"query\"],\n",
    "    partial_variables={\"format_instructions\": parser.get_format_instructions()},\n",
    ")"
   ]
  },
  {
   "cell_type": "code",
   "execution_count": null,
   "id": "91f967da-15f7-4d3d-9c0f-075cb7d23e53",
   "metadata": {},
   "outputs": [],
   "source": [
    "# Populate the query.\n",
    "input = prompt.format_prompt(query=\"Interstellar\")"
   ]
  },
  {
   "cell_type": "code",
   "execution_count": null,
   "id": "1566ce20-4c17-413b-9358-0d0a02839f31",
   "metadata": {},
   "outputs": [],
   "source": [
    "# Print the final prompt.\n",
    "print(input.to_string())"
   ]
  },
  {
   "cell_type": "code",
   "execution_count": null,
   "id": "39047ca3-aca2-43f5-b2ff-579546aca3ed",
   "metadata": {},
   "outputs": [],
   "source": [
    "# Invoke the model with the prompt.\n",
    "output = model.invoke(input.to_string())"
   ]
  },
  {
   "cell_type": "code",
   "execution_count": null,
   "id": "f5ad8506-d0f7-4521-9938-4d39ab899faa",
   "metadata": {},
   "outputs": [],
   "source": [
    "# Define an output parser using pydantic.\n",
    "parsed_response = parser.parse(output)\n",
    "print(parsed_response)\n",
    "type(parsed_response)"
   ]
  }
 ],
 "metadata": {
  "kernelspec": {
   "display_name": "Python 3 (ipykernel)",
   "language": "python",
   "name": "python3"
  },
  "language_info": {
   "codemirror_mode": {
    "name": "ipython",
    "version": 3
   },
   "file_extension": ".py",
   "mimetype": "text/x-python",
   "name": "python",
   "nbconvert_exporter": "python",
   "pygments_lexer": "ipython3",
   "version": "3.10.16"
  }
 },
 "nbformat": 4,
 "nbformat_minor": 5
}
