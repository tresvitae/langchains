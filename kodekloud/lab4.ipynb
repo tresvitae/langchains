{
 "cells": [
  {
   "cell_type": "code",
   "execution_count": 1,
   "id": "6c81a803-7e5e-4042-94f8-360ec894935f",
   "metadata": {},
   "outputs": [],
   "source": [
    "# Import the required modules.\n",
    "from langchain.prompts import ChatPromptTemplate,FewShotChatMessagePromptTemplate\n",
    "from langchain_openai import ChatOpenAI\n",
    "import os"
   ]
  },
  {
   "cell_type": "code",
   "execution_count": 2,
   "id": "6ed7f850-584d-4ce7-958b-145e6b79d9d1",
   "metadata": {},
   "outputs": [],
   "source": [
    "# Set your OpenAI API key.\n",
    "os.environ[\"OPENAI_API_KEY\"]=\"YOUR_OPENAI_API_KEY\""
   ]
  },
  {
   "cell_type": "code",
   "execution_count": 3,
   "id": "b41637ee-00ba-442a-8a87-e89d58cd58d5",
   "metadata": {},
   "outputs": [],
   "source": [
    "# Create examples for few-shot learning.\n",
    "examples = [\n",
    "    {\"input\": \"India\", \"output\": \"aidnI\"},\n",
    "    {\"input\": \"Canada\", \"output\": \"adanaC\"},\n",
    "    {\"input\": \"Australia\", \"output\": \"ailartsuA\"},\n",
    "]"
   ]
  },
  {
   "cell_type": "code",
   "execution_count": 4,
   "id": "3ca09397-be0d-447f-84bd-9c593cff4588",
   "metadata": {},
   "outputs": [],
   "source": [
    "# Create example prompts.\n",
    "example_prompt = ChatPromptTemplate.from_messages(\n",
    "    [\n",
    "        (\"human\", \"{input}\"),\n",
    "        (\"ai\", \"{output}\"),\n",
    "    ]\n",
    ")"
   ]
  },
  {
   "cell_type": "code",
   "execution_count": 5,
   "id": "ef4cba2c-737c-4903-a457-46747bddfada",
   "metadata": {},
   "outputs": [],
   "source": [
    "# Create a few-shot chat message prompt template.\n",
    "few_shot_prompt = FewShotChatMessagePromptTemplate(\n",
    "    example_prompt=example_prompt,\n",
    "    examples=examples,\n",
    ")"
   ]
  },
  {
   "cell_type": "code",
   "execution_count": 6,
   "id": "0ffa06a5-c571-41e4-b516-89998792756f",
   "metadata": {},
   "outputs": [
    {
     "name": "stdout",
     "output_type": "stream",
     "text": [
      "Human: India\n",
      "AI: aidnI\n",
      "Human: Canada\n",
      "AI: adanaC\n",
      "Human: Australia\n",
      "AI: ailartsuA\n"
     ]
    }
   ],
   "source": [
    "# Format the prompt.\n",
    "print(few_shot_prompt.format())"
   ]
  },
  {
   "cell_type": "code",
   "execution_count": 7,
   "id": "d35fc9d3-61cc-4590-b4aa-ce16d3a6aa35",
   "metadata": {},
   "outputs": [],
   "source": [
    "# Create a system message and integrate few-shot examples.\n",
    "prompt_template = ChatPromptTemplate.from_messages(\n",
    "    [\n",
    "        (\"system\", \"You are a linguistic specialist.\"),\n",
    "        few_shot_prompt,\n",
    "        (\"human\", \"{input}\"),\n",
    "    ]\n",
    ")"
   ]
  },
  {
   "cell_type": "code",
   "execution_count": 8,
   "id": "fb37b105-1301-4e85-a4f0-6ca6c64b8ad8",
   "metadata": {},
   "outputs": [
    {
     "data": {
      "text/plain": [
       "ChatPromptTemplate(input_variables=['input'], messages=[SystemMessagePromptTemplate(prompt=PromptTemplate(input_variables=[], template='You are a linguistic specialist.')), FewShotChatMessagePromptTemplate(examples=[{'input': 'India', 'output': 'aidnI'}, {'input': 'Canada', 'output': 'adanaC'}, {'input': 'Australia', 'output': 'ailartsuA'}], example_prompt=ChatPromptTemplate(input_variables=['input', 'output'], messages=[HumanMessagePromptTemplate(prompt=PromptTemplate(input_variables=['input'], template='{input}')), AIMessagePromptTemplate(prompt=PromptTemplate(input_variables=['output'], template='{output}'))])), HumanMessagePromptTemplate(prompt=PromptTemplate(input_variables=['input'], template='{input}'))])"
      ]
     },
     "execution_count": 8,
     "metadata": {},
     "output_type": "execute_result"
    }
   ],
   "source": [
    "prompt_template"
   ]
  },
  {
   "cell_type": "code",
   "execution_count": 9,
   "id": "019a1f70-06ea-41cf-b766-3d67e52e3477",
   "metadata": {},
   "outputs": [],
   "source": [
    "# Format the final prompt.\n",
    "prompt=prompt_template.format_messages(input=\"Brazil\")"
   ]
  },
  {
   "cell_type": "code",
   "execution_count": 10,
   "id": "deb4e0b8-6e7f-47d7-8752-1f1942b64761",
   "metadata": {},
   "outputs": [
    {
     "data": {
      "text/plain": [
       "[SystemMessage(content='You are a linguistic specialist.'),\n",
       " HumanMessage(content='India'),\n",
       " AIMessage(content='aidnI'),\n",
       " HumanMessage(content='Canada'),\n",
       " AIMessage(content='adanaC'),\n",
       " HumanMessage(content='Australia'),\n",
       " AIMessage(content='ailartsuA'),\n",
       " HumanMessage(content='Brazil')]"
      ]
     },
     "execution_count": 10,
     "metadata": {},
     "output_type": "execute_result"
    }
   ],
   "source": [
    "prompt"
   ]
  },
  {
   "cell_type": "code",
   "execution_count": 11,
   "id": "e0b00484-ae79-4e2f-b20b-d22e2cf73fcb",
   "metadata": {},
   "outputs": [],
   "source": [
    "# Initialize ChatOpenAI and get a response.\n",
    "model = ChatOpenAI()\n",
    "response=model.invoke(prompt)"
   ]
  },
  {
   "cell_type": "code",
   "execution_count": 12,
   "id": "b9e35bc6-1975-451e-a3db-301cf2e3234e",
   "metadata": {},
   "outputs": [
    {
     "data": {
      "text/plain": [
       "'lizarB'"
      ]
     },
     "execution_count": 12,
     "metadata": {},
     "output_type": "execute_result"
    }
   ],
   "source": [
    "response.content"
   ]
  },
  {
   "cell_type": "code",
   "execution_count": null,
   "id": "de5c7a1b-b48f-4aaa-a6da-959234b7233c",
   "metadata": {},
   "outputs": [],
   "source": []
  }
 ],
 "metadata": {
  "kernelspec": {
   "display_name": "Python 3 (ipykernel)",
   "language": "python",
   "name": "python3"
  },
  "language_info": {
   "codemirror_mode": {
    "name": "ipython",
    "version": 3
   },
   "file_extension": ".py",
   "mimetype": "text/x-python",
   "name": "python",
   "nbconvert_exporter": "python",
   "pygments_lexer": "ipython3",
   "version": "3.10.16"
  }
 },
 "nbformat": 4,
 "nbformat_minor": 5
}
