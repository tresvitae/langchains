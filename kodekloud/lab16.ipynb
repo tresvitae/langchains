{
 "cells": [
  {
   "cell_type": "markdown",
   "id": "1561eae9",
   "metadata": {},
   "source": [
    "# Lab 16: Advanced Chain Composition with RunnablePassthrough\n",
    "\n",
    "This lab demonstrates advanced chain composition using RunnablePassthrough for content generation workflows. You'll learn:\n",
    "- How to use `RunnablePassthrough` for data flow management\n",
    "- Building multi-step content generation pipelines\n",
    "- Chaining dependent operations (title → outline → blog → summary)\n",
    "- Managing data transformation between chain steps\n",
    "- Creating complex workflows with intermediate results"
   ]
  },
  {
   "cell_type": "code",
   "execution_count": null,
   "id": "39b3afea-4685-43af-a327-6abb055b1bae",
   "metadata": {},
   "outputs": [],
   "source": [
    "# Import LangChain components for advanced content generation workflow\n",
    "# RunnablePassthrough enables sophisticated data flow management between chain steps\n",
    "from langchain_core.output_parsers import StrOutputParser\n",
    "from langchain_core.prompts import ChatPromptTemplate\n",
    "from langchain_openai import ChatOpenAI\n",
    "from langchain_core.runnables import RunnablePassthrough"
   ]
  },
  {
   "cell_type": "code",
   "execution_count": null,
   "id": "5360fdc3",
   "metadata": {},
   "outputs": [],
   "source": [
    "# Set up OpenAI API credentials for content generation workflow\n",
    "import os\n",
    "os.environ[\"OPENAI_API_KEY\"] = \"your-api-key\""
   ]
  },
  {
   "cell_type": "code",
   "execution_count": null,
   "id": "b56a91bf-e5aa-43e7-854a-3e6cb656bfd9",
   "metadata": {},
   "outputs": [],
   "source": [
    "# Create the first stage: title generation chain\n",
    "# RunnablePassthrough() wraps the output in a dictionary with key \"title\"\n",
    "# This prepares the data format for the next chain in the sequence\n",
    "title = (\n",
    "    ChatPromptTemplate.from_template(\n",
    "        \"Generate an impactful title for {input}\")\n",
    "    | ChatOpenAI()\n",
    "    | StrOutputParser()\n",
    "    | {\"title\": RunnablePassthrough()}\n",
    ")"
   ]
  },
  {
   "cell_type": "code",
   "execution_count": null,
   "id": "f965dc45-f60b-4ef8-a240-50a19e1d7112",
   "metadata": {},
   "outputs": [],
   "source": [
    "# Create the second stage: outline generation chain\n",
    "# Takes the title from previous step and generates a detailed outline\n",
    "# Wraps output in \"outline\" key for the next chain step\n",
    "outline = (\n",
    "    ChatPromptTemplate.from_template(\n",
    "        \"Generate a detailed outline for {title}\"\n",
    "    )\n",
    "    | ChatOpenAI()\n",
    "    | StrOutputParser()\n",
    "    | {\"outline\": RunnablePassthrough()}\n",
    ")"
   ]
  },
  {
   "cell_type": "code",
   "execution_count": null,
   "id": "6c8804a7-a5f3-4a65-b432-7d2e64fae5c5",
   "metadata": {},
   "outputs": [],
   "source": [
    "# Create the third stage: blog post generation chain\n",
    "# Uses the outline to generate a 200-word blog post\n",
    "# Wraps output in \"blog\" key for final summarization step\n",
    "blog = (\n",
    "    ChatPromptTemplate.from_template(\n",
    "        \"Generate a 200 word blog post based on the outline: {outline}\"\n",
    "    )\n",
    "    | ChatOpenAI()\n",
    "    | StrOutputParser()\n",
    "    | {\"blog\": RunnablePassthrough()}\n",
    ")"
   ]
  },
  {
   "cell_type": "code",
   "execution_count": null,
   "id": "c00b3ba4-c53b-4ebb-a056-78edfa2e9d14",
   "metadata": {},
   "outputs": [],
   "source": [
    "# Create the final stage: summary generation chain\n",
    "# Takes the full blog post and creates a concise summary\n",
    "# No RunnablePassthrough wrapper needed as this is the final output\n",
    "summary = (\n",
    "    ChatPromptTemplate.from_template(\n",
    "        \"Generate a summary for the post {blog}\"\n",
    "    )\n",
    "    | ChatOpenAI()\n",
    "    | StrOutputParser()\n",
    ")"
   ]
  },
  {
   "cell_type": "code",
   "execution_count": null,
   "id": "92cc3cd1-dbfd-4303-b5ba-6132b0d2e034",
   "metadata": {},
   "outputs": [],
   "source": [
    "# Combine all stages into a complete content generation workflow\n",
    "# Flow: input → title → outline → blog → summary\n",
    "# Each stage feeds its output to the next stage using RunnablePassthrough data formatting\n",
    "content_chain = title | outline | blog | summary"
   ]
  },
  {
   "cell_type": "code",
   "execution_count": null,
   "id": "1b6f5811-da62-4252-874e-cb9af6999bc3",
   "metadata": {},
   "outputs": [],
   "source": [
    "# Execute the complete content generation workflow\n",
    "# Input: topic → Output: final summary after going through all stages\n",
    "# The chain automatically handles data flow between all four stages\n",
    "content_chain.invoke({\"input\":\"The impact of AI on jobs\"})"
   ]
  }
 ],
 "metadata": {
  "kernelspec": {
   "display_name": "Python 3 (ipykernel)",
   "language": "python",
   "name": "python3"
  },
  "language_info": {
   "codemirror_mode": {
    "name": "ipython",
    "version": 3
   },
   "file_extension": ".py",
   "mimetype": "text/x-python",
   "name": "python",
   "nbconvert_exporter": "python",
   "pygments_lexer": "ipython3",
   "version": "3.10.16"
  }
 },
 "nbformat": 4,
 "nbformat_minor": 5
}
